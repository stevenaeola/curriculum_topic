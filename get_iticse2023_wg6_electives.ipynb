{
 "cells": [
  {
   "cell_type": "code",
   "execution_count": 21,
   "id": "4ce56b24",
   "metadata": {},
   "outputs": [],
   "source": [
    "import pandas as pd\n",
    "import json"
   ]
  },
  {
   "cell_type": "code",
   "execution_count": 22,
   "id": "98b05951",
   "metadata": {},
   "outputs": [
    {
     "data": {
      "text/plain": [
       "array(['Durham_England', 'Edinburgh_Scotland', 'Glasgow_Scotland',\n",
       "       'Uppsala_Sweden', 'CAU_Germany', 'Kennesaw_USA', 'UofT_Canada',\n",
       "       'UOC_Spain', 'VirginiaTech_USA'], dtype=object)"
      ]
     },
     "execution_count": 22,
     "metadata": {},
     "output_type": "execute_result"
    }
   ],
   "source": [
    "wg_electives = pd.read_csv(\"iticse2023_wg6_all_electives.csv\")\n",
    "wg_electives['institution'].unique()"
   ]
  },
  {
   "cell_type": "code",
   "execution_count": 23,
   "id": "97879649",
   "metadata": {},
   "outputs": [
    {
     "data": {
      "text/plain": [
       "array(['Uppsala_Sweden', 'CAU_Germany', 'Kennesaw_USA', 'UofT_Canada',\n",
       "       'UOC_Spain', 'VirginiaTech_USA'], dtype=object)"
      ]
     },
     "execution_count": 23,
     "metadata": {},
     "output_type": "execute_result"
    }
   ],
   "source": [
    "# remove UK institutions so they aren't double-counted\n",
    "uk_institutions = ['Durham_England', 'Edinburgh_Scotland', 'Glasgow_Scotland']\n",
    "wg_electives = wg_electives[~wg_electives.institution.isin(uk_institutions)]\n",
    "wg_electives['institution'].unique()"
   ]
  },
  {
   "cell_type": "code",
   "execution_count": 24,
   "id": "ed52a8ac",
   "metadata": {},
   "outputs": [
    {
     "data": {
      "text/html": [
       "<div>\n",
       "<style scoped>\n",
       "    .dataframe tbody tr th:only-of-type {\n",
       "        vertical-align: middle;\n",
       "    }\n",
       "\n",
       "    .dataframe tbody tr th {\n",
       "        vertical-align: top;\n",
       "    }\n",
       "\n",
       "    .dataframe thead th {\n",
       "        text-align: right;\n",
       "    }\n",
       "</style>\n",
       "<table border=\"1\" class=\"dataframe\">\n",
       "  <thead>\n",
       "    <tr style=\"text-align: right;\">\n",
       "      <th></th>\n",
       "      <th>institution</th>\n",
       "      <th>elective</th>\n",
       "      <th>overview</th>\n",
       "      <th>title</th>\n",
       "      <th>summary</th>\n",
       "      <th>content</th>\n",
       "      <th>ilo</th>\n",
       "    </tr>\n",
       "  </thead>\n",
       "  <tbody>\n",
       "    <tr>\n",
       "      <th>183</th>\n",
       "      <td>Kennesaw_USA</td>\n",
       "      <td>CYBR3396</td>\n",
       "      <td>NaN</td>\n",
       "      <td>Cooperative Study</td>\n",
       "      <td>This is a supervised credit-earning work exper...</td>\n",
       "      <td>NaN</td>\n",
       "      <td>NaN</td>\n",
       "    </tr>\n",
       "    <tr>\n",
       "      <th>184</th>\n",
       "      <td>Kennesaw_USA</td>\n",
       "      <td>CYBR3398</td>\n",
       "      <td>NaN</td>\n",
       "      <td>Internship</td>\n",
       "      <td>A supervised credit-earning work experience fo...</td>\n",
       "      <td>NaN</td>\n",
       "      <td>NaN</td>\n",
       "    </tr>\n",
       "    <tr>\n",
       "      <th>185</th>\n",
       "      <td>Kennesaw_USA</td>\n",
       "      <td>CYBR4305</td>\n",
       "      <td>NaN</td>\n",
       "      <td>Technology and Cyber Crime</td>\n",
       "      <td>This course provides an overview of cyber crim...</td>\n",
       "      <td>NaN</td>\n",
       "      <td>NaN</td>\n",
       "    </tr>\n",
       "    <tr>\n",
       "      <th>188</th>\n",
       "      <td>Kennesaw_USA</td>\n",
       "      <td>CYBR4700</td>\n",
       "      <td>NaN</td>\n",
       "      <td>Cybersecurity Competitions</td>\n",
       "      <td>This course explores emerging issues in cybers...</td>\n",
       "      <td>NaN</td>\n",
       "      <td>NaN</td>\n",
       "    </tr>\n",
       "    <tr>\n",
       "      <th>204</th>\n",
       "      <td>Kennesaw_USA</td>\n",
       "      <td>IT4673</td>\n",
       "      <td>NaN</td>\n",
       "      <td>Virtual IT Systems</td>\n",
       "      <td>This course explores the design, implementatio...</td>\n",
       "      <td>NaN</td>\n",
       "      <td>NaN</td>\n",
       "    </tr>\n",
       "    <tr>\n",
       "      <th>205</th>\n",
       "      <td>Kennesaw_USA</td>\n",
       "      <td>IT4713</td>\n",
       "      <td>NaN</td>\n",
       "      <td>Business Intelligence Systems</td>\n",
       "      <td>This course introduces the concepts, practices...</td>\n",
       "      <td>NaN</td>\n",
       "      <td>NaN</td>\n",
       "    </tr>\n",
       "  </tbody>\n",
       "</table>\n",
       "</div>"
      ],
      "text/plain": [
       "      institution  elective overview                          title  \\\n",
       "183  Kennesaw_USA  CYBR3396      NaN              Cooperative Study   \n",
       "184  Kennesaw_USA  CYBR3398      NaN                     Internship   \n",
       "185  Kennesaw_USA  CYBR4305      NaN     Technology and Cyber Crime   \n",
       "188  Kennesaw_USA  CYBR4700      NaN     Cybersecurity Competitions   \n",
       "204  Kennesaw_USA    IT4673      NaN             Virtual IT Systems   \n",
       "205  Kennesaw_USA    IT4713      NaN  Business Intelligence Systems   \n",
       "\n",
       "                                               summary content  ilo  \n",
       "183  This is a supervised credit-earning work exper...     NaN  NaN  \n",
       "184  A supervised credit-earning work experience fo...     NaN  NaN  \n",
       "185  This course provides an overview of cyber crim...     NaN  NaN  \n",
       "188  This course explores emerging issues in cybers...     NaN  NaN  \n",
       "204  This course explores the design, implementatio...     NaN  NaN  \n",
       "205  This course introduces the concepts, practices...     NaN  NaN  "
      ]
     },
     "execution_count": 24,
     "metadata": {},
     "output_type": "execute_result"
    }
   ],
   "source": [
    "wg_electives[wg_electives['overview'].isna()]"
   ]
  },
  {
   "cell_type": "code",
   "execution_count": 25,
   "id": "f656b66c",
   "metadata": {},
   "outputs": [],
   "source": [
    "wg_electives['content'] = wg_electives['content'].fillna('')\n",
    "wg_electives['ilo'] = wg_electives['ilo'].fillna('')\n",
    "wg_electives['summary'] = wg_electives['summary'].fillna('')\n",
    "wg_electives['overview'] = wg_electives['title'] + ' ' + wg_electives['summary'] + ' ' + wg_electives['content'] + ' ' + wg_electives['ilo']\n",
    "\n"
   ]
  },
  {
   "cell_type": "code",
   "execution_count": 26,
   "id": "267400b1",
   "metadata": {},
   "outputs": [
    {
     "data": {
      "text/html": [
       "<div>\n",
       "<style scoped>\n",
       "    .dataframe tbody tr th:only-of-type {\n",
       "        vertical-align: middle;\n",
       "    }\n",
       "\n",
       "    .dataframe tbody tr th {\n",
       "        vertical-align: top;\n",
       "    }\n",
       "\n",
       "    .dataframe thead th {\n",
       "        text-align: right;\n",
       "    }\n",
       "</style>\n",
       "<table border=\"1\" class=\"dataframe\">\n",
       "  <thead>\n",
       "    <tr style=\"text-align: right;\">\n",
       "      <th></th>\n",
       "      <th>institution</th>\n",
       "      <th>elective</th>\n",
       "      <th>overview</th>\n",
       "      <th>title</th>\n",
       "      <th>summary</th>\n",
       "      <th>content</th>\n",
       "      <th>ilo</th>\n",
       "    </tr>\n",
       "  </thead>\n",
       "  <tbody>\n",
       "  </tbody>\n",
       "</table>\n",
       "</div>"
      ],
      "text/plain": [
       "Empty DataFrame\n",
       "Columns: [institution, elective, overview, title, summary, content, ilo]\n",
       "Index: []"
      ]
     },
     "execution_count": 26,
     "metadata": {},
     "output_type": "execute_result"
    }
   ],
   "source": [
    "wg_electives[wg_electives['overview'].isna()]"
   ]
  },
  {
   "cell_type": "code",
   "execution_count": 27,
   "id": "813a622f",
   "metadata": {},
   "outputs": [],
   "source": [
    "\n",
    "with open(\"iticse2023_wg6_electives_non_uk.json\", \"w\") as file:\n",
    "    json.dump(list(dict(wg_electives['overview']).values()), file)"
   ]
  },
  {
   "cell_type": "code",
   "execution_count": null,
   "id": "adc1223c",
   "metadata": {},
   "outputs": [],
   "source": []
  }
 ],
 "metadata": {
  "kernelspec": {
   "display_name": "Python 3 (ipykernel)",
   "language": "python",
   "name": "python3"
  },
  "language_info": {
   "codemirror_mode": {
    "name": "ipython",
    "version": 3
   },
   "file_extension": ".py",
   "mimetype": "text/x-python",
   "name": "python",
   "nbconvert_exporter": "python",
   "pygments_lexer": "ipython3",
   "version": "3.9.17"
  }
 },
 "nbformat": 4,
 "nbformat_minor": 5
}
