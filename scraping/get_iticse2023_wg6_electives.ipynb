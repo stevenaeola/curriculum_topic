{
 "cells": [
  {
   "cell_type": "code",
   "execution_count": 21,
   "id": "4ce56b24",
   "metadata": {},
   "outputs": [],
   "source": [
    "import pandas as pd\n",
    "import json"
   ]
  },
  {
   "cell_type": "code",
   "execution_count": 22,
   "id": "98b05951",
   "metadata": {},
   "outputs": [
    {
     "data": {
      "text/plain": [
       "array(['Durham_England', 'Edinburgh_Scotland', 'Glasgow_Scotland',\n",
       "       'Uppsala_Sweden', 'CAU_Germany', 'Kennesaw_USA', 'UofT_Canada',\n",
       "       'UOC_Spain', 'VirginiaTech_USA'], dtype=object)"
      ]
     },
     "execution_count": 22,
     "metadata": {},
     "output_type": "execute_result"
    }
   ],
   "source": [
    "wg_electives = pd.read_csv(\"../iticse2023_wg6_all_electives.csv\")\n",
    "wg_electives['institution'].unique()"
   ]
  },
  {
   "cell_type": "code",
   "execution_count": 23,
   "id": "97879649",
   "metadata": {},
   "outputs": [
    {
     "data": {
      "text/plain": [
       "array(['Uppsala_Sweden', 'CAU_Germany', 'Kennesaw_USA', 'UofT_Canada',\n",
       "       'UOC_Spain', 'VirginiaTech_USA'], dtype=object)"
      ]
     },
     "execution_count": 23,
     "metadata": {},
     "output_type": "execute_result"
    }
   ],
   "source": [
    "# remove UK institutions so they aren't double-counted\n",
    "uk_institutions = ['Durham_England', 'Edinburgh_Scotland', 'Glasgow_Scotland']\n",
    "wg_electives = wg_electives[~wg_electives.institution.isin(uk_institutions)]\n",
    "wg_electives['institution'].unique()"
   ]
  },
  {
   "cell_type": "code",
   "execution_count": 24,
   "id": "ed52a8ac",
   "metadata": {},
   "outputs": [
    {
     "data": {
      "text/plain": [
       "['Uppsala_Sweden',\n",
       " 'Uppsala_Sweden',\n",
       " 'Uppsala_Sweden',\n",
       " 'Uppsala_Sweden',\n",
       " 'Uppsala_Sweden',\n",
       " 'Uppsala_Sweden',\n",
       " 'Uppsala_Sweden',\n",
       " 'Uppsala_Sweden',\n",
       " 'Uppsala_Sweden',\n",
       " 'Uppsala_Sweden',\n",
       " 'Uppsala_Sweden',\n",
       " 'Uppsala_Sweden',\n",
       " 'Uppsala_Sweden',\n",
       " 'Uppsala_Sweden',\n",
       " 'Uppsala_Sweden',\n",
       " 'Uppsala_Sweden',\n",
       " 'Uppsala_Sweden',\n",
       " 'Uppsala_Sweden',\n",
       " 'CAU_Germany',\n",
       " 'CAU_Germany',\n",
       " 'CAU_Germany',\n",
       " 'CAU_Germany',\n",
       " 'CAU_Germany',\n",
       " 'CAU_Germany',\n",
       " 'CAU_Germany',\n",
       " 'CAU_Germany',\n",
       " 'CAU_Germany',\n",
       " 'CAU_Germany',\n",
       " 'CAU_Germany',\n",
       " 'CAU_Germany',\n",
       " 'CAU_Germany',\n",
       " 'Kennesaw_USA',\n",
       " 'Kennesaw_USA',\n",
       " 'Kennesaw_USA',\n",
       " 'Kennesaw_USA',\n",
       " 'Kennesaw_USA',\n",
       " 'Kennesaw_USA',\n",
       " 'Kennesaw_USA',\n",
       " 'Kennesaw_USA',\n",
       " 'Kennesaw_USA',\n",
       " 'Kennesaw_USA',\n",
       " 'Kennesaw_USA',\n",
       " 'Kennesaw_USA',\n",
       " 'Kennesaw_USA',\n",
       " 'Kennesaw_USA',\n",
       " 'Kennesaw_USA',\n",
       " 'Kennesaw_USA',\n",
       " 'Kennesaw_USA',\n",
       " 'Kennesaw_USA',\n",
       " 'Kennesaw_USA',\n",
       " 'Kennesaw_USA',\n",
       " 'Kennesaw_USA',\n",
       " 'Kennesaw_USA',\n",
       " 'Kennesaw_USA',\n",
       " 'Kennesaw_USA',\n",
       " 'Kennesaw_USA',\n",
       " 'Kennesaw_USA',\n",
       " 'Kennesaw_USA',\n",
       " 'Kennesaw_USA',\n",
       " 'Kennesaw_USA',\n",
       " 'Kennesaw_USA',\n",
       " 'Kennesaw_USA',\n",
       " 'Kennesaw_USA',\n",
       " 'Kennesaw_USA',\n",
       " 'Kennesaw_USA',\n",
       " 'Kennesaw_USA',\n",
       " 'Kennesaw_USA',\n",
       " 'Kennesaw_USA',\n",
       " 'Kennesaw_USA',\n",
       " 'Kennesaw_USA',\n",
       " 'Kennesaw_USA',\n",
       " 'Kennesaw_USA',\n",
       " 'Kennesaw_USA',\n",
       " 'Kennesaw_USA',\n",
       " 'Kennesaw_USA',\n",
       " 'Kennesaw_USA',\n",
       " 'Kennesaw_USA',\n",
       " 'Kennesaw_USA',\n",
       " 'Kennesaw_USA',\n",
       " 'Kennesaw_USA',\n",
       " 'Kennesaw_USA',\n",
       " 'Kennesaw_USA',\n",
       " 'Kennesaw_USA',\n",
       " 'Kennesaw_USA',\n",
       " 'Kennesaw_USA',\n",
       " 'Kennesaw_USA',\n",
       " 'Kennesaw_USA',\n",
       " 'Kennesaw_USA',\n",
       " 'Kennesaw_USA',\n",
       " 'Kennesaw_USA',\n",
       " 'Kennesaw_USA',\n",
       " 'Kennesaw_USA',\n",
       " 'Kennesaw_USA',\n",
       " 'Kennesaw_USA',\n",
       " 'Kennesaw_USA',\n",
       " 'Kennesaw_USA',\n",
       " 'Kennesaw_USA',\n",
       " 'Kennesaw_USA',\n",
       " 'UofT_Canada',\n",
       " 'UofT_Canada',\n",
       " 'UofT_Canada',\n",
       " 'UofT_Canada',\n",
       " 'UofT_Canada',\n",
       " 'UofT_Canada',\n",
       " 'UofT_Canada',\n",
       " 'UofT_Canada',\n",
       " 'UofT_Canada',\n",
       " 'UofT_Canada',\n",
       " 'UofT_Canada',\n",
       " 'UofT_Canada',\n",
       " 'UOC_Spain',\n",
       " 'UOC_Spain',\n",
       " 'UOC_Spain',\n",
       " 'UOC_Spain',\n",
       " 'UOC_Spain',\n",
       " 'UOC_Spain',\n",
       " 'UOC_Spain',\n",
       " 'UOC_Spain',\n",
       " 'UOC_Spain',\n",
       " 'UOC_Spain',\n",
       " 'UOC_Spain',\n",
       " 'UOC_Spain',\n",
       " 'UOC_Spain',\n",
       " 'UOC_Spain',\n",
       " 'UOC_Spain',\n",
       " 'UOC_Spain',\n",
       " 'UOC_Spain',\n",
       " 'UOC_Spain',\n",
       " 'UOC_Spain',\n",
       " 'UOC_Spain',\n",
       " 'UOC_Spain',\n",
       " 'UOC_Spain',\n",
       " 'UOC_Spain',\n",
       " 'UOC_Spain',\n",
       " 'UOC_Spain',\n",
       " 'UOC_Spain',\n",
       " 'UOC_Spain',\n",
       " 'UOC_Spain',\n",
       " 'UOC_Spain',\n",
       " 'VirginiaTech_USA',\n",
       " 'VirginiaTech_USA',\n",
       " 'VirginiaTech_USA',\n",
       " 'VirginiaTech_USA',\n",
       " 'VirginiaTech_USA',\n",
       " 'VirginiaTech_USA',\n",
       " 'VirginiaTech_USA',\n",
       " 'VirginiaTech_USA',\n",
       " 'VirginiaTech_USA',\n",
       " 'VirginiaTech_USA',\n",
       " 'VirginiaTech_USA',\n",
       " 'VirginiaTech_USA',\n",
       " 'VirginiaTech_USA',\n",
       " 'VirginiaTech_USA',\n",
       " 'VirginiaTech_USA',\n",
       " 'VirginiaTech_USA',\n",
       " 'VirginiaTech_USA',\n",
       " 'VirginiaTech_USA',\n",
       " 'VirginiaTech_USA',\n",
       " 'VirginiaTech_USA',\n",
       " 'VirginiaTech_USA',\n",
       " 'VirginiaTech_USA',\n",
       " 'VirginiaTech_USA',\n",
       " 'VirginiaTech_USA',\n",
       " 'VirginiaTech_USA',\n",
       " 'VirginiaTech_USA',\n",
       " 'VirginiaTech_USA',\n",
       " 'VirginiaTech_USA',\n",
       " 'VirginiaTech_USA',\n",
       " 'VirginiaTech_USA',\n",
       " 'VirginiaTech_USA',\n",
       " 'VirginiaTech_USA']"
      ]
     },
     "execution_count": 24,
     "metadata": {},
     "output_type": "execute_result"
    }
   ],
   "source": [
    "list(dict(wg_electives['institution']).values())"
   ]
  },
  {
   "cell_type": "code",
   "execution_count": 26,
   "id": "813a622f",
   "metadata": {},
   "outputs": [],
   "source": [
    "\n",
    "with open(\"../iticse2023_wg6_electives_non_uk.json\", \"w\") as file:\n",
    "    json.dump(list(dict(wg_electives['overview']).values()), file)"
   ]
  },
  {
   "cell_type": "code",
   "execution_count": null,
   "id": "adc1223c",
   "metadata": {},
   "outputs": [],
   "source": []
  }
 ],
 "metadata": {
  "kernelspec": {
   "display_name": "Python 3 (ipykernel)",
   "language": "python",
   "name": "python3"
  },
  "language_info": {
   "codemirror_mode": {
    "name": "ipython",
    "version": 3
   },
   "file_extension": ".py",
   "mimetype": "text/x-python",
   "name": "python",
   "nbconvert_exporter": "python",
   "pygments_lexer": "ipython3",
   "version": "3.9.17"
  }
 },
 "nbformat": 4,
 "nbformat_minor": 5
}
