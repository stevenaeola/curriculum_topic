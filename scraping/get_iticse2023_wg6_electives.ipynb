{
 "cells": [
  {
   "cell_type": "code",
   "execution_count": 1,
   "id": "1d505e22",
   "metadata": {},
   "outputs": [],
   "source": [
    "import pandas as pd"
   ]
  },
  {
   "cell_type": "code",
   "execution_count": 7,
   "id": "c35defef",
   "metadata": {},
   "outputs": [
    {
     "data": {
      "text/plain": [
       "array(['Durham_England', 'Edinburgh_Scotland', 'Glasgow_Scotland',\n",
       "       'Uppsala_Sweden', 'CAU_Germany', 'Kennesaw_USA', 'UofT_Canada',\n",
       "       'UOC_Spain', 'VirginiaTech_USA'], dtype=object)"
      ]
     },
     "execution_count": 7,
     "metadata": {},
     "output_type": "execute_result"
    }
   ],
   "source": [
    "wg_electives = pd.read_csv(\"../iticse2023_wg6_all_electives.csv\")\n",
    "wg_electives['institution'].unique()"
   ]
  },
  {
   "cell_type": "code",
   "execution_count": 8,
   "id": "11627029",
   "metadata": {},
   "outputs": [
    {
     "data": {
      "text/plain": [
       "array(['Uppsala_Sweden', 'CAU_Germany', 'Kennesaw_USA', 'UofT_Canada',\n",
       "       'UOC_Spain', 'VirginiaTech_USA'], dtype=object)"
      ]
     },
     "execution_count": 8,
     "metadata": {},
     "output_type": "execute_result"
    }
   ],
   "source": [
    "# remove UK institutions so they aren't double-counted\n",
    "uk_institutions = ['Durham_England', 'Edinburgh_Scotland', 'Glasgow_Scotland']\n",
    "wg_electives = wg_electives[~wg_electives.institution.isin(uk_institutions)]\n",
    "wg_electives['institution'].unique()"
   ]
  },
  {
   "cell_type": "code",
   "execution_count": 10,
   "id": "668f0ccb",
   "metadata": {},
   "outputs": [],
   "source": [
    "wg_electives['overview'].to_json(\"../iticse2023_wg6_electives_non_uk.json\")"
   ]
  }
 ],
 "metadata": {
  "kernelspec": {
   "display_name": "Python 3 (ipykernel)",
   "language": "python",
   "name": "python3"
  },
  "language_info": {
   "codemirror_mode": {
    "name": "ipython",
    "version": 3
   },
   "file_extension": ".py",
   "mimetype": "text/x-python",
   "name": "python",
   "nbconvert_exporter": "python",
   "pygments_lexer": "ipython3",
   "version": "3.9.17"
  }
 },
 "nbformat": 4,
 "nbformat_minor": 5
}
